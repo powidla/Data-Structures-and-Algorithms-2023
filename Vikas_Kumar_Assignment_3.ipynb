{
  "cells": [
    {
      "cell_type": "markdown",
      "id": "54e9553d",
      "metadata": {
        "id": "54e9553d"
      },
      "source": [
        "## Deadline: 5 June 2023\n",
        "\n",
        "### 1. FM-index\n",
        "\n",
        "Implement FM-index data structure and string search using it. Provide tests.\n",
        "\n",
        "https://www.youtube.com/watch?v=4n7NPk5lwbI\n",
        "\n",
        "3 points"
      ]
    },
    {
      "cell_type": "code",
      "execution_count": null,
      "id": "f08853df",
      "metadata": {
        "id": "f08853df"
      },
      "outputs": [],
      "source": [
        "class FMIndex:\n",
        "    def __init__(self, text):\n",
        "        self.text = text + '$'\n",
        "        self.bwt, self.sa = self.construct()\n",
        "        self.counts, self.first_pos = self.preprocess_bwt()\n",
        "\n",
        "    def construct(self):\n",
        "        suffixes = sorted([self.text[i:] + self.text[:i] for i in range(len(self.text))])\n",
        "        bwt = ''.join(suffix[-1] for suffix in suffixes)\n",
        "        sa = [len(self.text) - suffix.index('$') - 1 for suffix in suffixes]\n",
        "        return bwt, sa\n",
        "\n",
        "    def preprocess_bwt(self):\n",
        "        counts = {}\n",
        "        first_pos = {}\n",
        "        for char in self.bwt:\n",
        "            counts[char] = counts.get(char, 0) + 1\n",
        "        sorted_chars = sorted(counts.keys())\n",
        "        total = 0\n",
        "        for char in sorted_chars:\n",
        "            first_pos[char] = total\n",
        "            total += counts[char]\n",
        "        return counts, first_pos\n",
        "\n",
        "    def get_poses(self, char):\n",
        "        start = self.first_pos.get(char, 0)\n",
        "        end = self.first_pos.get(char, 0) + self.counts.get(char, 0)\n",
        "        return start, end\n",
        "\n",
        "    def backward_search(self, pattern):\n",
        "        top, bottom = 0, len(self.bwt)\n",
        "        for i in range(len(pattern) - 1, -1, -1):\n",
        "            char = pattern[i]\n",
        "            start, end = self.get_poses(char)\n",
        "            top = start + self.bwt[:top].count(char)\n",
        "            bottom = start + self.bwt[:bottom].count(char) - 1\n",
        "            if top > bottom:\n",
        "                return []\n",
        "        return self.sa[top:bottom+1]\n",
        "\n",
        "    def search(self, pattern):\n",
        "        pos = self.backward_search(pattern)\n",
        "        return pos\n"
      ]
    },
    {
      "cell_type": "code",
      "source": [
        "def motif_tests():\n",
        "    # Initialize FMIndex with DNA sequence\n",
        "    dna_sequence = \"ATGCTAGCTAGCTGATCGATCGATCGATCG\"\n",
        "    fm_index = FMIndex(dna_sequence)\n",
        "\n",
        "    # Test searching for a pattern present in the DNA sequence\n",
        "    pattern = \"ATCG\"\n",
        "    poses = fm_index.search(pattern)\n",
        "    print(f\"Pattern '{pattern}' occurrences: {poses}\")\n",
        "\n",
        "    # Test searching for a pattern not present in the DNA sequence\n",
        "    pattern = \"GATTACA\"\n",
        "    poses = fm_index.search(pattern)\n",
        "    print(f\"Pattern '{pattern}' occurrences: {poses}\")\n",
        "\n",
        "motif_tests()"
      ],
      "metadata": {
        "colab": {
          "base_uri": "https://localhost:8080/"
        },
        "id": "fYpuoLy4--xb",
        "outputId": "1bfe3481-2ae6-49b1-eda9-6e7e9acb0bde"
      },
      "id": "fYpuoLy4--xb",
      "execution_count": null,
      "outputs": [
        {
          "output_type": "stream",
          "name": "stdout",
          "text": [
            "Pattern 'ATCG' occurrences: [26, 22]\n",
            "Pattern 'GATTACA' occurrences: []\n"
          ]
        }
      ]
    },
    {
      "cell_type": "markdown",
      "id": "418a80b4",
      "metadata": {
        "id": "418a80b4"
      },
      "source": [
        "### 2. Needleman–Wunsch\n",
        "\n",
        "Implement Needleman–Wunsch algorithm. Provide tests.\n",
        "\n",
        "2 points"
      ]
    },
    {
      "cell_type": "code",
      "execution_count": null,
      "id": "2f2b87d8",
      "metadata": {
        "id": "2f2b87d8"
      },
      "outputs": [],
      "source": [
        "class NeedlemanWunsch:\n",
        "    def __init__(self, gap_penalty, match_score, mismatch_penalty):\n",
        "        self.gap_penalty = gap_penalty\n",
        "        self.match_score = match_score\n",
        "        self.mismatch_penalty = mismatch_penalty\n",
        "\n",
        "    def align(self, sequence1, sequence2):\n",
        "        \n",
        "        score_matrix = [[0] * (len(sequence2) + 1) for _ in range(len(sequence1) + 1)]\n",
        "\n",
        "       \n",
        "        traceback_matrix = [[0] * (len(sequence2) + 1) for _ in range(len(sequence1) + 1)]\n",
        "\n",
        "        \n",
        "        for i in range(1, len(sequence1) + 1):\n",
        "            score_matrix[i][0] = score_matrix[i - 1][0] + self.gap_penalty\n",
        "            traceback_matrix[i][0] = 'U'\n",
        "\n",
        "        for j in range(1, len(sequence2) + 1):\n",
        "            score_matrix[0][j] = score_matrix[0][j - 1] + self.gap_penalty\n",
        "            traceback_matrix[0][j] = 'L'\n",
        "\n",
        "        for i in range(1, len(sequence1) + 1):\n",
        "            for j in range(1, len(sequence2) + 1):\n",
        "                if sequence1[i - 1] == sequence2[j - 1]:\n",
        "                    match = score_matrix[i - 1][j - 1] + self.match_score\n",
        "                else:\n",
        "                    match = score_matrix[i - 1][j - 1] + self.mismatch_penalty\n",
        "                delete = score_matrix[i - 1][j] + self.gap_penalty\n",
        "                insert = score_matrix[i][j - 1] + self.gap_penalty\n",
        "\n",
        "                score_matrix[i][j] = max(match, delete, insert)\n",
        "\n",
        "                if score_matrix[i][j] == match:\n",
        "                    traceback_matrix[i][j] = 'D'\n",
        "                elif score_matrix[i][j] == delete:\n",
        "                    traceback_matrix[i][j] = 'U'\n",
        "                else:\n",
        "                    traceback_matrix[i][j] = 'L'\n",
        "\n",
        "      \n",
        "        aligned_sequence1 = ''\n",
        "        aligned_sequence2 = ''\n",
        "        i = len(sequence1)\n",
        "        j = len(sequence2)\n",
        "\n",
        "        while i > 0 or j > 0:\n",
        "            if traceback_matrix[i][j] == 'D':\n",
        "                aligned_sequence1 = sequence1[i - 1] + aligned_sequence1\n",
        "                aligned_sequence2 = sequence2[j - 1] + aligned_sequence2\n",
        "                i -= 1\n",
        "                j -= 1\n",
        "            elif traceback_matrix[i][j] == 'U':\n",
        "                aligned_sequence1 = sequence1[i - 1] + aligned_sequence1\n",
        "                aligned_sequence2 = '-' + aligned_sequence2\n",
        "                i -= 1\n",
        "            else:\n",
        "                aligned_sequence1 = '-' + aligned_sequence1\n",
        "                aligned_sequence2 = sequence2[j - 1] + aligned_sequence2\n",
        "                j -= 1\n",
        "\n",
        "        return aligned_sequence1, aligned_sequence2\n"
      ]
    },
    {
      "cell_type": "code",
      "source": [
        "def run_needleman_wunsch_tests():\n",
        "    gap_penalty = -1\n",
        "    match_score = 1\n",
        "    mismatch_penalty = -1\n",
        "\n",
        "    nw = NeedlemanWunsch(gap_penalty, match_score, mismatch_penalty)\n",
        "\n",
        "    sequence1 = \"ACTGAGCTAG\"\n",
        "    sequence2 = \"GCTTAGCTA\"\n",
        "    aligned_sequence1, aligned_sequence2 = nw.align(sequence1, sequence2)\n",
        "\n",
        "    print(\"Sequence 1:\", aligned_sequence1)\n",
        "    print(\"Sequence 2:\", aligned_sequence2)\n",
        "\n",
        "run_needleman_wunsch_tests()\n"
      ],
      "metadata": {
        "colab": {
          "base_uri": "https://localhost:8080/"
        },
        "id": "X29naAnmDA46",
        "outputId": "254e5cfc-5cd0-49e8-9494-9fbc72247aea"
      },
      "id": "X29naAnmDA46",
      "execution_count": null,
      "outputs": [
        {
          "output_type": "stream",
          "name": "stdout",
          "text": [
            "Sequence 1: ACTGAGCTAG\n",
            "Sequence 2: GCTTAGCTA-\n"
          ]
        }
      ]
    },
    {
      "cell_type": "code",
      "source": [],
      "metadata": {
        "id": "BRzesI0dDHXP"
      },
      "id": "BRzesI0dDHXP",
      "execution_count": null,
      "outputs": []
    }
  ],
  "metadata": {
    "kernelspec": {
      "display_name": "Python 3 (ipykernel)",
      "language": "python",
      "name": "python3"
    },
    "language_info": {
      "codemirror_mode": {
        "name": "ipython",
        "version": 3
      },
      "file_extension": ".py",
      "mimetype": "text/x-python",
      "name": "python",
      "nbconvert_exporter": "python",
      "pygments_lexer": "ipython3",
      "version": "3.9.13"
    },
    "colab": {
      "provenance": []
    }
  },
  "nbformat": 4,
  "nbformat_minor": 5
}