{
  "cells": [
    {
      "cell_type": "code",
      "execution_count": 46,
      "id": "62965ddf",
      "metadata": {
        "id": "62965ddf"
      },
      "outputs": [],
      "source": [
        "class Node:\n",
        "    def __init__(self, head, right, left, val):\n",
        "        self.head = head\n",
        "        self.right = right\n",
        "        self.left = left\n",
        "        self.val = val\n",
        "        \n",
        "    def set_left(self, left):\n",
        "        self.left = left\n",
        "        \n",
        "    def set_right(self, right):\n",
        "        self.right = right "
      ]
    },
    {
      "cell_type": "code",
      "execution_count": 47,
      "id": "986fa32f",
      "metadata": {
        "id": "986fa32f"
      },
      "outputs": [],
      "source": [
        "head = Node(None, None, None, \"Very sorry I am that I forgot\")\n",
        "left = Node(head, None, None, \"So here it is: https://github.com/powidla\")\n",
        "right = Node(head, None, None, \"to add my link to github at google form\")"
      ]
    },
    {
      "cell_type": "code",
      "execution_count": 48,
      "id": "43d4d82e",
      "metadata": {
        "id": "43d4d82e"
      },
      "outputs": [],
      "source": [
        "head.set_left(right)\n",
        "head.set_right(left)"
      ]
    },
    {
      "cell_type": "code",
      "execution_count": 49,
      "id": "e6ed0612",
      "metadata": {
        "id": "e6ed0612"
      },
      "outputs": [],
      "source": [
        "def passing_tree(current):\n",
        "    print(current.val)\n",
        "    \n",
        "    if current.left:\n",
        "        passing_tree(current.left)\n",
        "        \n",
        "    if current.right:\n",
        "        passing_tree(current.right)"
      ]
    },
    {
      "cell_type": "code",
      "execution_count": 50,
      "id": "6f958813",
      "metadata": {
        "colab": {
          "base_uri": "https://localhost:8080/"
        },
        "id": "6f958813",
        "outputId": "e3d6a860-6a32-4fc9-9db3-db406780ad06"
      },
      "outputs": [
        {
          "output_type": "stream",
          "name": "stdout",
          "text": [
            "Very sorry I am that I forgot\n",
            "to add my link to github at google form\n",
            "So here it is: https://github.com/powidla\n"
          ]
        }
      ],
      "source": [
        "passing_tree(head)"
      ]
    }
  ],
  "metadata": {
    "kernelspec": {
      "display_name": "Python 3",
      "language": "python",
      "name": "python3"
    },
    "language_info": {
      "codemirror_mode": {
        "name": "ipython",
        "version": 3
      },
      "file_extension": ".py",
      "mimetype": "text/x-python",
      "name": "python",
      "nbconvert_exporter": "python",
      "pygments_lexer": "ipython3",
      "version": "3.9.5"
    },
    "colab": {
      "provenance": []
    }
  },
  "nbformat": 4,
  "nbformat_minor": 5
}