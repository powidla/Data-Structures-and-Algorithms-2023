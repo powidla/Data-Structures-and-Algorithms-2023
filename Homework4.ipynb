{
  "cells": [
    {
      "cell_type": "markdown",
      "id": "3386ca95",
      "metadata": {
        "id": "3386ca95"
      },
      "source": [
        "# Deadline: 12 June 2023\n",
        "\n",
        "Provide tests for fuctions isEulerian(), eulerianPath(), toDot() of the DeBruijnGraph implementation from https://gist.github.com/BenLangmead/5298132 (fixed for Python 3)\n",
        "\n",
        "3 points"
      ]
    },
    {
      "cell_type": "code",
      "execution_count": 2,
      "id": "7fedfb1d",
      "metadata": {
        "id": "7fedfb1d"
      },
      "outputs": [],
      "source": [
        "class DeBruijnGraph:\n",
        "    \"\"\" A de Bruijn multigraph built from a collection of strings.\n",
        "        User supplies strings and k-mer length k.  Nodes of the de\n",
        "        Bruijn graph are k-1-mers and edges correspond to the k-mer\n",
        "        that joins a left k-1-mer to a right k-1-mer. \"\"\"\n",
        "\n",
        "    @staticmethod\n",
        "    def chop(st, k):\n",
        "        \"\"\" Chop a string up into k mers of given length \"\"\"\n",
        "        for i in range(0, len(st)-(k-1)):\n",
        "            yield (st[i:i+k], st[i:i+k-1], st[i+1:i+k])\n",
        "    \n",
        "    class Node:\n",
        "        \"\"\" Node in a de Bruijn graph, representing a k-1 mer.  We keep\n",
        "            track of # of incoming/outgoing edges so it's easy to check\n",
        "            for balanced, semi-balanced. \"\"\"\n",
        "        \n",
        "        def __init__(self, km1mer):\n",
        "            self.km1mer = km1mer\n",
        "            self.nin = 0\n",
        "            self.nout = 0\n",
        "        \n",
        "        def isSemiBalanced(self):\n",
        "            return abs(self.nin - self.nout) == 1\n",
        "        \n",
        "        def isBalanced(self):\n",
        "            return self.nin == self.nout\n",
        "        \n",
        "        def __hash__(self):\n",
        "            return hash(self.km1mer)\n",
        "        \n",
        "        def __str__(self):\n",
        "            return self.km1mer\n",
        "    \n",
        "    def __init__(self, strIter, k):\n",
        "        \"\"\" Build de Bruijn multigraph given string iterator and k-mer\n",
        "            length k \"\"\"\n",
        "        self.G = {}     # multimap from nodes to neighbors\n",
        "        self.nodes = {} # maps k-1-mers to Node objects\n",
        "        for st in strIter:\n",
        "            for kmer, km1L, km1R in self.chop(st, k):\n",
        "                nodeL, nodeR = None, None\n",
        "                if km1L in self.nodes:\n",
        "                    nodeL = self.nodes[km1L]\n",
        "                else:\n",
        "                    nodeL = self.nodes[km1L] = self.Node(km1L)\n",
        "                if km1R in self.nodes:\n",
        "                    nodeR = self.nodes[km1R]\n",
        "                else:\n",
        "                    nodeR = self.nodes[km1R] = self.Node(km1R)\n",
        "                nodeL.nout += 1\n",
        "                nodeR.nin += 1\n",
        "                self.G.setdefault(nodeL, []).append(nodeR)\n",
        "        # Iterate through nodes and tally how many are balanced,\n",
        "        # semi-balanced, or neither\n",
        "        self.nsemi, self.nbal, self.nneither = 0, 0, 0\n",
        "        # Keep track of head and tail nodes in the case of a graph with\n",
        "        # Eularian path (not cycle)\n",
        "        self.head, self.tail = None, None\n",
        "        for node in self.nodes.values():\n",
        "            if node.isBalanced():\n",
        "                self.nbal += 1\n",
        "            elif node.isSemiBalanced():\n",
        "                if node.nin == node.nout + 1:\n",
        "                    self.tail = node\n",
        "                if node.nin == node.nout - 1:\n",
        "                    self.head = node\n",
        "                self.nsemi += 1\n",
        "            else:\n",
        "                self.nneither += 1\n",
        "    \n",
        "    def nnodes(self):\n",
        "        \"\"\" Return # nodes \"\"\"\n",
        "        return len(self.nodes)\n",
        "    \n",
        "    def nedges(self):\n",
        "        \"\"\" Return # edges \"\"\"\n",
        "        return len(self.G)\n",
        "    \n",
        "    def hasEulerianPath(self):\n",
        "        \"\"\" Return true iff graph has Eulerian path. \"\"\"\n",
        "        return self.nneither == 0 and self.nsemi == 2\n",
        "    \n",
        "    def hasEulerianCycle(self):\n",
        "        \"\"\" Return true iff graph has Eulerian cycle. \"\"\"\n",
        "        return self.nneither == 0 and self.nsemi == 0\n",
        "    \n",
        "    def isEulerian(self):\n",
        "        \"\"\" Return true iff graph has Eulerian path or cycle \"\"\"\n",
        "        return self.hasEulerianPath() or self.hasEulerianCycle()\n",
        "    \n",
        "    def eulerianPath(self):\n",
        "        \"\"\" Find and return Eulerian path or cycle (as appropriate) \"\"\"\n",
        "        assert self.isEulerian()\n",
        "        g = self.G\n",
        "        if self.hasEulerianPath():\n",
        "            g = g.copy()\n",
        "            assert self.head is not None\n",
        "            assert self.tail is not None\n",
        "            g.setdefault(self.tail, []).append(self.head)\n",
        "        # graph g has an Eulerian cycle\n",
        "        tour = []\n",
        "        src = next(iter(g.keys())) # pick arbitrary starting node\n",
        "        \n",
        "        def __visit(n):\n",
        "            while len(g[n]) > 0:\n",
        "                dst = g[n].pop()\n",
        "                __visit(dst)\n",
        "            tour.append(n)\n",
        "        \n",
        "        __visit(src)\n",
        "        tour = tour[::-1][:-1]\n",
        "            \n",
        "        if self.hasEulerianPath():\n",
        "            # Adjust node list so that it starts at head and ends at tail\n",
        "            sti = tour.index(self.head)\n",
        "            tour = tour[sti:] + tour[:sti]\n",
        "        \n",
        "        # Return node list\n",
        "        return map(str, tour)\n",
        "        \n",
        "    def toDot(self, dotFh, weights=False):\n",
        "        \"\"\" Write dot representation to given filehandle.  If 'weights'\n",
        "            is true, label edges corresponding to distinct k-1-mers\n",
        "            with weights, instead of writing a separate edge for each\n",
        "            copy of a k-1-mer. \"\"\"\n",
        "        dotFh.write(\"digraph \\\"Graph\\\" {\\n\")\n",
        "        dotFh.write(\"  bgcolor=\\\"transparent\\\";\\n\")\n",
        "        for node in self.G.keys():\n",
        "            lab = node.km1mer\n",
        "            dotFh.write(\"  %s [label=\\\"%s\\\"] ;\\n\" % (lab, lab))\n",
        "        for src, dsts in self.G.items():\n",
        "            srclab = src.km1mer\n",
        "            if weights:\n",
        "                weightmap = {}\n",
        "                if weights:\n",
        "                    for dst in dsts:\n",
        "                        weightmap[dst] = weightmap.get(dst, 0) + 1\n",
        "                for dst, v in weightmap.items():\n",
        "                    dstlab = dst.km1mer\n",
        "                    dotFh.write(\"  %s -> %s [label=\\\"%d\\\"] ;\\n\" % (srclab, dstlab, v))\n",
        "            else:\n",
        "                for dst in dsts:\n",
        "                    srclab = src.km1mer\n",
        "                    dstlab = dst.km1mer\n",
        "                    dotFh.write(\"  %s -> %s [label=\\\"\\\"] ;\\n\" % (srclab, dstlab))\n",
        "        dotFh.write(\"}\\n\")"
      ]
    },
    {
      "cell_type": "markdown",
      "source": [
        "Test isEulerian()"
      ],
      "metadata": {
        "id": "AmzT_LmdbgLo"
      },
      "id": "AmzT_LmdbgLo"
    },
    {
      "cell_type": "code",
      "source": [
        "graph1 = DeBruijnGraph([\"ATCG\", \"TCGA\", \"CGAT\", \"GATC\"], 4)\n",
        "assert graph1.isEulerian() == True\n",
        "\n",
        "graph2 = DeBruijnGraph([\"ACGT\", \"CGTA\", \"AGTC\"], 4)\n",
        "assert graph2.isEulerian() == False\n",
        "\n",
        "graph3 = DeBruijnGraph([\"ATTA\", \"TTAA\", \"TAAT\"], 4)\n",
        "assert graph3.isEulerian() == True"
      ],
      "metadata": {
        "id": "VPkbCwUcaVNJ"
      },
      "id": "VPkbCwUcaVNJ",
      "execution_count": 23,
      "outputs": []
    },
    {
      "cell_type": "markdown",
      "source": [
        "Test eulerianPath()"
      ],
      "metadata": {
        "id": "M-qAjbvKIlZP"
      },
      "id": "M-qAjbvKIlZP"
    },
    {
      "cell_type": "code",
      "source": [
        "actual_path = list(graph1.eulerianPath())\n",
        "expected_path = ['ATC', 'TCG', 'CGA', 'GAT']\n",
        "print(\"Actual path:\", actual_path)\n",
        "print(\"Expected path:\", expected_path)\n",
        "assert actual_path == expected_path"
      ],
      "metadata": {
        "colab": {
          "base_uri": "https://localhost:8080/"
        },
        "id": "2LLfExedX_AD",
        "outputId": "a4b0d672-ccf6-4c98-a9bc-8c1d8889303b"
      },
      "id": "2LLfExedX_AD",
      "execution_count": 18,
      "outputs": [
        {
          "output_type": "stream",
          "name": "stdout",
          "text": [
            "Actual path: ['ATC', 'TCG', 'CGA', 'GAT']\n",
            "Expected path: ['ATC', 'TCG', 'CGA', 'GAT']\n"
          ]
        }
      ]
    },
    {
      "cell_type": "code",
      "source": [
        "actual_path = list(graph3.eulerianPath())\n",
        "expected_path = ['ATT', 'TTA', 'TAA', 'AAT']\n",
        "print(\"Actual path:\", actual_path)\n",
        "print(\"Expected path:\", expected_path)\n",
        "assert actual_path == expected_path"
      ],
      "metadata": {
        "colab": {
          "base_uri": "https://localhost:8080/"
        },
        "id": "rbW8fB6eKpsr",
        "outputId": "3840d130-580a-4a76-d97b-d618d7fe8330"
      },
      "id": "rbW8fB6eKpsr",
      "execution_count": 24,
      "outputs": [
        {
          "output_type": "stream",
          "name": "stdout",
          "text": [
            "Actual path: ['ATT', 'TTA', 'TAA', 'AAT']\n",
            "Expected path: ['ATT', 'TTA', 'TAA', 'AAT']\n"
          ]
        }
      ]
    },
    {
      "cell_type": "markdown",
      "source": [
        "Test toDot"
      ],
      "metadata": {
        "id": "q2HW9pwwJtS-"
      },
      "id": "q2HW9pwwJtS-"
    },
    {
      "cell_type": "code",
      "source": [
        "dot_file1 = open(\"graph1.dot\", \"w\")\n",
        "graph1.toDot(dot_file1)\n",
        "dot_file1.close()"
      ],
      "metadata": {
        "id": "IrJ5_sbfJsfq"
      },
      "id": "IrJ5_sbfJsfq",
      "execution_count": 32,
      "outputs": []
    },
    {
      "cell_type": "code",
      "source": [
        "# Take a look on output\n",
        "from graphviz import Source\n",
        "graphviz_output = Source.from_file(\"graph1.dot\")\n",
        "graphviz_output.view()"
      ],
      "metadata": {
        "colab": {
          "base_uri": "https://localhost:8080/",
          "height": 35
        },
        "id": "hRS8jyjwaJMw",
        "outputId": "54f37f66-0d03-4a09-b88c-f84960a4085a"
      },
      "id": "hRS8jyjwaJMw",
      "execution_count": 33,
      "outputs": [
        {
          "output_type": "execute_result",
          "data": {
            "text/plain": [
              "'graph1.dot.pdf'"
            ],
            "application/vnd.google.colaboratory.intrinsic+json": {
              "type": "string"
            }
          },
          "metadata": {},
          "execution_count": 33
        }
      ]
    },
    {
      "cell_type": "code",
      "source": [
        "dot_file3 = open(\"graph3.dot\", \"w\")\n",
        "graph3.toDot(dot_file3)\n",
        "dot_file3.close()"
      ],
      "metadata": {
        "id": "TYdaAOzWLWnj"
      },
      "id": "TYdaAOzWLWnj",
      "execution_count": 36,
      "outputs": []
    },
    {
      "cell_type": "code",
      "source": [
        "graphviz_output = Source.from_file(\"graph3.dot\")\n",
        "graphviz_output.view()"
      ],
      "metadata": {
        "colab": {
          "base_uri": "https://localhost:8080/",
          "height": 35
        },
        "id": "em4sDAZILW4x",
        "outputId": "51440a16-f796-4ba3-9d46-ccd63e14c335"
      },
      "id": "em4sDAZILW4x",
      "execution_count": 37,
      "outputs": [
        {
          "output_type": "execute_result",
          "data": {
            "text/plain": [
              "'graph3.dot.pdf'"
            ],
            "application/vnd.google.colaboratory.intrinsic+json": {
              "type": "string"
            }
          },
          "metadata": {},
          "execution_count": 37
        }
      ]
    }
  ],
  "metadata": {
    "kernelspec": {
      "display_name": "Python 3 (ipykernel)",
      "language": "python",
      "name": "python3"
    },
    "language_info": {
      "codemirror_mode": {
        "name": "ipython",
        "version": 3
      },
      "file_extension": ".py",
      "mimetype": "text/x-python",
      "name": "python",
      "nbconvert_exporter": "python",
      "pygments_lexer": "ipython3",
      "version": "3.9.13"
    },
    "colab": {
      "provenance": []
    }
  },
  "nbformat": 4,
  "nbformat_minor": 5
}