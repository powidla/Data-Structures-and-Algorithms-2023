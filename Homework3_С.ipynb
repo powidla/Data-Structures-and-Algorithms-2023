{
  "cells": [
    {
      "cell_type": "markdown",
      "id": "54e9553d",
      "metadata": {
        "id": "54e9553d"
      },
      "source": [
        "## Deadline: 5 June 2023\n",
        "\n",
        "### 1. FM-index\n",
        "\n",
        "Implement FM-index data structure and string search using it. Provide tests.\n",
        "\n",
        "https://www.youtube.com/watch?v=4n7NPk5lwbI\n",
        "\n",
        "3 points"
      ]
    },
    {
      "cell_type": "code",
      "execution_count": null,
      "id": "f08853df",
      "metadata": {
        "id": "f08853df"
      },
      "outputs": [],
      "source": [
        "class FMIndex:\n",
        "    def __init__(self, text):\n",
        "        self.text = text + '$'\n",
        "        self.bwt, self.sa = self._construct_bwt_and_sa()\n",
        "        self.counts, self.first_occurrence = self._preprocess_bwt()\n",
        "\n",
        "    def _construct_bwt_and_sa(self):\n",
        "        suffixes = [self.text[i:] + self.text[:i] for i in range(len(self.text))]\n",
        "        suffixes.sort()\n",
        "        bwt = ''.join([suffix[-1] for suffix in suffixes])\n",
        "        sa = [len(self.text) - suffix.index('$') - 1 for suffix in suffixes]\n",
        "        return bwt, sa\n",
        "\n",
        "    def _preprocess_bwt(self):\n",
        "        counts = {}\n",
        "        first_occurrence = {}\n",
        "        for char in self.bwt:\n",
        "            counts[char] = counts.get(char, 0) + 1\n",
        "        sorted_chars = sorted(counts.keys())\n",
        "        total = 0\n",
        "        for char in sorted_chars:\n",
        "            first_occurrence[char] = total\n",
        "            total += counts[char]\n",
        "        return counts, first_occurrence\n",
        "\n",
        "    def _get_occurrences(self, char):\n",
        "        start = self.first_occurrence[char]\n",
        "        if char == '$':\n",
        "            end = len(self.bwt)\n",
        "        else:\n",
        "            end = self.first_occurrence[char] + self.counts[char]\n",
        "        return start, end\n",
        "\n",
        "    def _backward_search(self, pattern):\n",
        "        top, bottom = 0, len(self.bwt)\n",
        "        for i in range(len(pattern) - 1, -1, -1):\n",
        "            char = pattern[i]\n",
        "            start, end = self._get_occurrences(char)\n",
        "            top = start + self._count_occurrences(char, top - 1)\n",
        "            bottom = start + self._count_occurrences(char, bottom) - 1\n",
        "            if top > bottom:\n",
        "                return []\n",
        "        return self.sa[top:bottom+1]\n",
        "\n",
        "    def _count_occurrences(self, char, index):\n",
        "        count = 0\n",
        "        for i in range(index):\n",
        "            if self.bwt[i] == char:\n",
        "                count += 1\n",
        "        return count\n",
        "\n",
        "    def search(self, pattern):\n",
        "        occurrences = self._backward_search(pattern)\n",
        "        return occurrences\n"
      ]
    },
    {
      "cell_type": "code",
      "source": [
        "# Example usage and tests\n",
        "text = \"ACGTAGTACGTACGT\"\n",
        "fm_index = FMIndex(text)\n",
        "\n",
        "# Test search\n",
        "pattern = \"ACGT\"\n",
        "occurrences = fm_index.search(pattern)\n",
        "print(f\"Occurrences of '{pattern}': {occurrences}\")  \n",
        "\n",
        "pattern = \"GATTACA\"\n",
        "occurrences = fm_index.search(pattern)\n",
        "print(f\"Occurrences of '{pattern}': {occurrences}\")  \n",
        "\n",
        "pattern = \"ATA\"\n",
        "occurrences = fm_index.search(pattern)\n",
        "print(f\"Occurrences of '{pattern}': {occurrences}\")  \n",
        "\n",
        "pattern = \"T\"\n",
        "occurrences = fm_index.search(pattern)\n",
        "print(f\"Occurrences of '{pattern}': {occurrences}\")  \n",
        "\n",
        "pattern = \"AAG\"\n",
        "occurrences = fm_index.search(pattern)\n",
        "print(f\"Occurrences of '{pattern}': {occurrences}\")  "
      ],
      "metadata": {
        "colab": {
          "base_uri": "https://localhost:8080/"
        },
        "id": "7_XK67KEJnPa",
        "outputId": "5c8b131d-d598-4668-e1de-da26d9216ee7"
      },
      "id": "7_XK67KEJnPa",
      "execution_count": null,
      "outputs": [
        {
          "output_type": "stream",
          "name": "stdout",
          "text": [
            "Occurrences of 'ACGT': [11]\n",
            "Occurrences of 'GATTACA': []\n",
            "Occurrences of 'ATA': []\n",
            "Occurrences of 'T': [14, 10, 6, 3]\n",
            "Occurrences of 'AAG': []\n"
          ]
        }
      ]
    },
    {
      "cell_type": "markdown",
      "id": "418a80b4",
      "metadata": {
        "id": "418a80b4"
      },
      "source": [
        "### 2. Needleman–Wunsch\n",
        "\n",
        "Implement Needleman–Wunsch algorithm. Provide tests.\n",
        "\n",
        "2 points"
      ]
    },
    {
      "cell_type": "code",
      "execution_count": null,
      "id": "2f2b87d8",
      "metadata": {
        "id": "2f2b87d8"
      },
      "outputs": [],
      "source": [
        "class NeedlemanWunsch:\n",
        "    def __init__(self, match_score=1, mismatch_penalty=-1, gap_penalty=-1):\n",
        "        self.match_score = match_score\n",
        "        self.mismatch_penalty = mismatch_penalty\n",
        "        self.gap_penalty = gap_penalty\n",
        "\n",
        "    def align(self, seq1, seq2):\n",
        "        # Initialize the score matrix and traceback matrix\n",
        "        n = len(seq1)\n",
        "        m = len(seq2)\n",
        "        score = [[0] * (m + 1) for _ in range(n + 1)]\n",
        "        traceback = [[None] * (m + 1) for _ in range(n + 1)]\n",
        "\n",
        "        # Initialize the first row and column of the score matrix\n",
        "        for i in range(1, n + 1):\n",
        "            score[i][0] = self.gap_penalty * i\n",
        "            traceback[i][0] = 'U'\n",
        "        for j in range(1, m + 1):\n",
        "            score[0][j] = self.gap_penalty * j\n",
        "            traceback[0][j] = 'L'\n",
        "\n",
        "        # Fill in the score matrix and traceback matrix\n",
        "        for i in range(1, n + 1):\n",
        "            for j in range(1, m + 1):\n",
        "                match = score[i - 1][j - 1] + (self.match_score if seq1[i - 1] == seq2[j - 1] else self.mismatch_penalty)\n",
        "                delete = score[i - 1][j] + self.gap_penalty\n",
        "                insert = score[i][j - 1] + self.gap_penalty\n",
        "                score[i][j] = max(match, delete, insert)\n",
        "                if score[i][j] == match:\n",
        "                    traceback[i][j] = 'D'\n",
        "                elif score[i][j] == delete:\n",
        "                    traceback[i][j] = 'U'\n",
        "                else:\n",
        "                    traceback[i][j] = 'L'\n",
        "\n",
        "        # Traceback to find the optimal alignment\n",
        "        aligned_seq1 = ''\n",
        "        aligned_seq2 = ''\n",
        "        i, j = n, m\n",
        "        while i > 0 and j > 0:\n",
        "            if traceback[i][j] == 'D':\n",
        "                aligned_seq1 = seq1[i - 1] + aligned_seq1\n",
        "                aligned_seq2 = seq2[j - 1] + aligned_seq2\n",
        "                i -= 1\n",
        "                j -= 1\n",
        "            elif traceback[i][j] == 'U':\n",
        "                aligned_seq1 = seq1[i - 1] + aligned_seq1\n",
        "                aligned_seq2 = '-' + aligned_seq2\n",
        "                i -= 1\n",
        "            else:\n",
        "                aligned_seq1 = '-' + aligned_seq1\n",
        "                aligned_seq2 = seq2[j - 1] + aligned_seq2\n",
        "                j -= 1\n",
        "\n",
        "        while i > 0:\n",
        "            aligned_seq1 = seq1[i - 1] + aligned_seq1\n",
        "            aligned_seq2 = '-' + aligned_seq2\n",
        "            i -= 1\n",
        "\n",
        "        while j > 0:\n",
        "            aligned_seq1 = '-' + aligned_seq1\n",
        "            aligned_seq2 = seq2[j - 1] + aligned_seq2\n",
        "            j -= 1\n",
        "\n",
        "        return aligned_seq1, aligned_seq2"
      ]
    },
    {
      "cell_type": "code",
      "source": [
        "seq1 = \"ACGTACGT\"\n",
        "seq2 = \"AGTACG\"\n",
        "nw = NeedlemanWunsch()\n",
        "aligned_seq1, aligned_seq2 = nw.align(seq1, seq2)\n",
        "print(f\"Aligned Seq1: {aligned_seq1}\")\n",
        "print(f\"Aligned Seq2: {aligned_seq2}\")"
      ],
      "metadata": {
        "colab": {
          "base_uri": "https://localhost:8080/"
        },
        "id": "VaYRPxhwR7qs",
        "outputId": "e57108dc-8ae4-4254-f4f4-c8c639c5f718"
      },
      "id": "VaYRPxhwR7qs",
      "execution_count": null,
      "outputs": [
        {
          "output_type": "stream",
          "name": "stdout",
          "text": [
            "Aligned Seq1: ACGTACGT\n",
            "Aligned Seq2: A-GTACG-\n"
          ]
        }
      ]
    },
    {
      "cell_type": "markdown",
      "id": "3f2a0eb9",
      "metadata": {
        "id": "3f2a0eb9"
      },
      "source": [
        "### 3*.  (Optional)  Greedy clustring\n",
        "\n",
        "Implement simple clustering procedure for nucleotide sequences described in 2.2 Cd-hit and cd-hit-est clustering section (https://doi.org/10.1093/bioinformatics/btl158). You can omit short word filtering, use the global alignment implementation from the second task or biopython global or local alignment https://biopython.org/docs/1.75/api/Bio.pairwise2.html, and implement a custom score threshold calculation based on length of the representative cluster sequence (the first sequence added to cluster).\n",
        "\n",
        "4 points"
      ]
    },
    {
      "cell_type": "code",
      "source": [
        "! pip install Bio"
      ],
      "metadata": {
        "id": "2h4H3TXiSjeJ"
      },
      "id": "2h4H3TXiSjeJ",
      "execution_count": null,
      "outputs": []
    },
    {
      "cell_type": "code",
      "source": [
        "from Bio import pairwise2"
      ],
      "metadata": {
        "id": "PyVBVmN_SneK"
      },
      "id": "PyVBVmN_SneK",
      "execution_count": null,
      "outputs": []
    },
    {
      "cell_type": "markdown",
      "source": [
        "   Start with an empty list of clusters.\n",
        "  For each sequence in the input dataset:\n",
        "\n",
        "  a. Compare it with each representative sequence of the existing clusters.\n",
        "\n",
        "   b. If the alignment score (based on global alignment) is above a threshold \n",
        "    calculated from the length of the representative sequence, add the sequence to that cluster.\n",
        "\n",
        "  c. If no cluster is found or the alignment score is below the threshold, create a new cluster with the sequence as the representative.\n",
        "    Return the list of clusters."
      ],
      "metadata": {
        "id": "SWKFzSCGSwqt"
      },
      "id": "SWKFzSCGSwqt"
    },
    {
      "cell_type": "code",
      "source": [
        "class CdHit:\n",
        "    def __init__(self, threshold=0.9):\n",
        "        self.threshold = threshold\n",
        "        self.clusters = []\n",
        "\n",
        "    def add_sequence(self, sequence):\n",
        "        # If no clusters exist, create a new cluster with the sequence as the representative\n",
        "        if not self.clusters:\n",
        "            self.clusters.append([sequence])\n",
        "            return\n",
        "\n",
        "        # Calculate the alignment threshold based on the length of the representative sequence\n",
        "        rep_length = len(self.clusters[0][0])\n",
        "        alignment_threshold = self.threshold * rep_length\n",
        "\n",
        "        # Compare the sequence with the representative sequences of existing clusters\n",
        "        for cluster in self.clusters:\n",
        "            rep_sequence = cluster[0]\n",
        "\n",
        "            # Perform global alignment between the sequence and the representative sequence\n",
        "            alignments = pairwise2.align.globalxx(rep_sequence, sequence)\n",
        "            alignment_score = alignments[0].score\n",
        "\n",
        "            # If the alignment score is above the threshold, add the sequence to the cluster\n",
        "            if alignment_score >= alignment_threshold:\n",
        "                cluster.append(sequence)\n",
        "                return\n",
        "\n",
        "        # If no suitable cluster is found, create a new cluster with the sequence as the representative\n",
        "        self.clusters.append([sequence])\n",
        "\n",
        "    def cluster_sequences(self, sequences):\n",
        "        for sequence in sequences:\n",
        "            self.add_sequence(sequence)\n",
        "        return self.clusters\n",
        "\n",
        "\n",
        "# Example usage and test\n",
        "sequences = [\n",
        "    \"ATCGGATCG\",\n",
        "    \"ATCGGATCC\",\n",
        "    \"GTCGGAACC\",\n",
        "    \"ATCGGATCGA\",\n",
        "    \"ATCGGATCCA\",\n",
        "    \"GTCGGAACCA\"\n",
        "]\n",
        "\n",
        "cd_hit = CdHit(threshold=0.9)\n",
        "clusters = cd_hit.cluster_sequences(sequences)\n",
        "\n",
        "# Print the clusters\n",
        "for i, cluster in enumerate(clusters):\n",
        "    print(f\"Cluster {i+1}:\")\n",
        "    for sequence in cluster:\n",
        "        print(sequence)\n",
        "    print()\n"
      ],
      "metadata": {
        "colab": {
          "base_uri": "https://localhost:8080/"
        },
        "id": "QMUjRJrdSiHi",
        "outputId": "9e567bcc-e9cf-42c1-bb94-28ae1fac0553"
      },
      "id": "QMUjRJrdSiHi",
      "execution_count": null,
      "outputs": [
        {
          "output_type": "stream",
          "name": "stdout",
          "text": [
            "Cluster 1:\n",
            "ATCGGATCG\n",
            "ATCGGATCGA\n",
            "\n",
            "Cluster 2:\n",
            "ATCGGATCC\n",
            "ATCGGATCCA\n",
            "\n",
            "Cluster 3:\n",
            "GTCGGAACC\n",
            "GTCGGAACCA\n",
            "\n"
          ]
        }
      ]
    }
  ],
  "metadata": {
    "kernelspec": {
      "display_name": "Python 3 (ipykernel)",
      "language": "python",
      "name": "python3"
    },
    "language_info": {
      "codemirror_mode": {
        "name": "ipython",
        "version": 3
      },
      "file_extension": ".py",
      "mimetype": "text/x-python",
      "name": "python",
      "nbconvert_exporter": "python",
      "pygments_lexer": "ipython3",
      "version": "3.9.13"
    },
    "colab": {
      "provenance": []
    }
  },
  "nbformat": 4,
  "nbformat_minor": 5
}