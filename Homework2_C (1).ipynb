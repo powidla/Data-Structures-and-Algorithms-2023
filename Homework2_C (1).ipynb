{
  "cells": [
    {
      "cell_type": "markdown",
      "id": "b06da7db",
      "metadata": {
        "id": "b06da7db"
      },
      "source": [
        "## Deadline: 18 May 2023\n",
        "\n",
        "### 1. AVL tree\n",
        "\n",
        "Implement AVL tree with interface functions Insert, Delete, Search. Provide tests.\n",
        "\n",
        "2 points"
      ]
    },
    {
      "cell_type": "code",
      "source": [
        "class AVLNode:\n",
        "    ''' A node in the AVL tree. Each node has a key, left and right child pointers,\n",
        "    and a height value that is used to balance the tree'''\n",
        "    def __init__(self, key):\n",
        "        ''' '''\n",
        "        self.key = key\n",
        "        self.left = None\n",
        "        self.right = None\n",
        "        self.height = 1\n",
        "\n",
        "class AVLTree:\n",
        "    ''' The tree is stored as a set\n",
        "    of AVLNodes, and each node is connected to its parent and children via pointers.'''\n",
        "    def __init__(self):\n",
        "        self.root = None\n",
        "\n",
        "    def _get_height(self, node):\n",
        "        ''' Returns the height of the given node, or 0 if the node is None'''\n",
        "        if node is None:\n",
        "            return 0\n",
        "        return node.height\n",
        "    \n",
        "    def insert(self, key):\n",
        "        '''Inserts a new node with the given key into the AVL tree.'''\n",
        "        def _insert(node, key):\n",
        "          # reccursive function\n",
        "            if node is None:\n",
        "                return AVLNode(key)\n",
        "            elif key < node.key:\n",
        "                node.left = _insert(node.left, key)\n",
        "            else:\n",
        "                node.right = _insert(node.right, key)\n",
        "\n",
        "            node.height = max(self._get_height(node.left), self._get_height(node.right)) + 1\n",
        "            return node\n",
        "\n",
        "        self.root = _insert(self.root, key)\n",
        "\n",
        "    def delete(self, key):\n",
        "        ''' Deletes the node with the given key from tree'''\n",
        "        def _delete(node, key):\n",
        "          # reccursive function\n",
        "            if node is None:\n",
        "                return None\n",
        "            elif key < node.key:\n",
        "                node.left = _delete(node.left, key)\n",
        "            elif key > node.key:\n",
        "                node.right = _delete(node.right, key)\n",
        "          # If the node has only one child, the function returns the child node, \n",
        "          # effectively removing the node from the tree and replacing it with its child.\n",
        "            else:\n",
        "                if node.left is None:\n",
        "                    return node.right\n",
        "                elif node.right is None:\n",
        "                    return node.left\n",
        "                else:\n",
        "                    min_right_subtree = self._min_value_node(node.right)\n",
        "                    node.key = min_right_subtree.key\n",
        "                    node.right = _delete(node.right, min_right_subtree.key)\n",
        "\n",
        "            return node\n",
        "\n",
        "        self.root = _delete(self.root, key)\n",
        "\n",
        "    def search(self, key):\n",
        "        ''' Searches for the node with the given key '''\n",
        "        current = self.root\n",
        "\n",
        "        while current is not None:\n",
        "            if current.key == key:\n",
        "                return True\n",
        "\n",
        "            elif current.key < key:\n",
        "                current = current.right\n",
        "\n",
        "            else:\n",
        "                current = current.left\n",
        "\n",
        "        return False"
      ],
      "metadata": {
        "id": "iAgTbDhPK6xA"
      },
      "id": "iAgTbDhPK6xA",
      "execution_count": null,
      "outputs": []
    },
    {
      "cell_type": "markdown",
      "source": [
        "Test 3 functions"
      ],
      "metadata": {
        "id": "QYQIct83UE5D"
      },
      "id": "QYQIct83UE5D"
    },
    {
      "cell_type": "code",
      "source": [
        "%%time\n",
        "tree = AVLTree()\n",
        "\n",
        "# Test empty tree\n",
        "assert tree.search(0) == False\n",
        "\n",
        "# Test insertion and search\n",
        "tree.insert(10)\n",
        "tree.insert(20)\n",
        "tree.insert(30)\n",
        "tree.insert(40)\n",
        "tree.insert(50)\n",
        "tree.insert(25)\n",
        "\n",
        "assert tree.search(10) == True\n",
        "assert tree.search(20) == True\n",
        "assert tree.search(30) == True\n",
        "assert tree.search(40) == True\n",
        "assert tree.search(50) == True\n",
        "assert tree.search(25) == True\n",
        "assert tree.search(15) == False\n",
        "\n",
        "# Test deletion and search\n",
        "tree.delete(10)\n",
        "tree.delete(20)\n",
        "\n",
        "assert tree.search(10) == False\n",
        "assert tree.search(20) == False\n",
        "assert tree.search(30) == True\n",
        "assert tree.search(40) == True\n",
        "assert tree.search(50) == True\n",
        "assert tree.search(25) == True\n",
        "assert tree.search(15) == False\n",
        "\n",
        "tree.insert(5)\n",
        "tree.insert(4)\n",
        "tree.insert(3)\n",
        "\n",
        "assert tree.search(3) == True\n",
        "assert tree.search(4) == True\n",
        "assert tree.search(5) == True\n",
        "\n",
        "tree.delete(50)\n",
        "tree.delete(40)\n",
        "tree.delete(30)\n",
        "\n",
        "assert tree.search(50) == False\n",
        "assert tree.search(40) == False\n",
        "assert tree.search(30) == False\n",
        "\n",
        "tree.insert(1)\n",
        "tree.insert(2)\n",
        "tree.insert(3)\n",
        "tree.insert(4)\n",
        "\n",
        "assert tree.search(1) == True\n",
        "assert tree.search(2) == True\n",
        "assert tree.search(3) == True\n",
        "assert tree.search(4) == True"
      ],
      "metadata": {
        "colab": {
          "base_uri": "https://localhost:8080/"
        },
        "id": "OjE2JHD5UUFK",
        "outputId": "951ac894-75aa-4fe9-9e77-92a4a94cc7c0"
      },
      "id": "OjE2JHD5UUFK",
      "execution_count": null,
      "outputs": [
        {
          "output_type": "stream",
          "name": "stdout",
          "text": [
            "CPU times: user 1.03 ms, sys: 0 ns, total: 1.03 ms\n",
            "Wall time: 2.92 ms\n"
          ]
        }
      ]
    },
    {
      "cell_type": "markdown",
      "id": "5699e3df",
      "metadata": {
        "id": "5699e3df"
      },
      "source": [
        "### 2. Rabin-Karp algorithm\n",
        "\n",
        "Implement Rabin-Karp algorithm search. Implement your own function for polynomial hash calculation. Provide tests. \n",
        "\n",
        "2 points"
      ]
    },
    {
      "cell_type": "code",
      "source": [
        "def polynomial_hash(string):\n",
        "    ''' function computes the polynomial hash value of a string. It takes a string as input and returns an integer value as the hash value. \n",
        "    The hash value is computed by iterating over each character of the string \n",
        "    and multiplying the current hash value by a prime base number'''\n",
        "    hash_value = 0\n",
        "    PRIME_BASE = 100\n",
        "    PRIME_MOD = 1000000000\n",
        "\n",
        "    for char in string:\n",
        "        hash_value = (hash_value * PRIME_BASE + ord(char)) % PRIME_MOD\n",
        "\n",
        "    return hash_value"
      ],
      "metadata": {
        "id": "tP8Pz6-5Z6fe"
      },
      "id": "tP8Pz6-5Z6fe",
      "execution_count": null,
      "outputs": []
    },
    {
      "cell_type": "code",
      "execution_count": null,
      "id": "219ec9d8",
      "metadata": {
        "id": "219ec9d8"
      },
      "outputs": [],
      "source": [
        "def rabin_karp_search(pattern, text):\n",
        "    '''function implements the Rabin-Karp algorithm for searching a pattern string in a text string. \n",
        "    The function takes two input arguments: pattern is the pattern string to search for, and text is the text string to search in.'''\n",
        "    hash_value = 0\n",
        "    PRIME_BASE = 100\n",
        "    PRIME_MOD = 1000000000\n",
        "    pattern_hash = polynomial_hash(pattern)\n",
        "    pattern_length = len(pattern)\n",
        "    text_length = len(text)\n",
        "\n",
        "    if pattern_length > text_length:\n",
        "        return []\n",
        "\n",
        "    rolling_hash = polynomial_hash(text[:pattern_length])\n",
        "\n",
        "    matches = []\n",
        "\n",
        "    for i in range(text_length - pattern_length + 1):\n",
        "        if pattern_hash == rolling_hash:\n",
        "            if pattern == text[i:i+pattern_length]:\n",
        "                matches.append(i)\n",
        "\n",
        "        if i < text_length - pattern_length:\n",
        "            rolling_hash = rolling_hash - (ord(text[i]) * pow(PRIME_BASE, pattern_length - 1))\n",
        "            rolling_hash = rolling_hash * PRIME_BASE + ord(text[i + pattern_length])\n",
        "\n",
        "    return matches"
      ]
    },
    {
      "cell_type": "markdown",
      "source": [
        "Test"
      ],
      "metadata": {
        "id": "VAnPIhawcPRM"
      },
      "id": "VAnPIhawcPRM"
    },
    {
      "cell_type": "code",
      "source": [
        "%%time\n",
        "assert rabin_karp_search(\"abc\", \"abcdabc\") == [0, 4]\n",
        "assert rabin_karp_search(\"abab\", \"ababab\") == [0, 2]\n",
        "assert rabin_karp_search(\"aaa\", \"aa\") == []\n",
        "assert rabin_karp_search(\"a\", \"aaaaaa\") == [0, 1, 2, 3, 4, 5]\n",
        "assert rabin_karp_search(\"aaa\", \"aaaaaa\") == [0, 1, 2, 3]\n",
        "assert rabin_karp_search(\"abc\", \"defg\") == []"
      ],
      "metadata": {
        "colab": {
          "base_uri": "https://localhost:8080/"
        },
        "id": "7nHXUcnZankf",
        "outputId": "89890ef7-4be4-49ec-a542-daa8c25908f4"
      },
      "id": "7nHXUcnZankf",
      "execution_count": null,
      "outputs": [
        {
          "output_type": "stream",
          "name": "stdout",
          "text": [
            "CPU times: user 58 µs, sys: 0 ns, total: 58 µs\n",
            "Wall time: 62.5 µs\n"
          ]
        }
      ]
    }
  ],
  "metadata": {
    "kernelspec": {
      "display_name": "Python 3 (ipykernel)",
      "language": "python",
      "name": "python3"
    },
    "language_info": {
      "codemirror_mode": {
        "name": "ipython",
        "version": 3
      },
      "file_extension": ".py",
      "mimetype": "text/x-python",
      "name": "python",
      "nbconvert_exporter": "python",
      "pygments_lexer": "ipython3",
      "version": "3.9.13"
    },
    "colab": {
      "provenance": []
    }
  },
  "nbformat": 4,
  "nbformat_minor": 5
}