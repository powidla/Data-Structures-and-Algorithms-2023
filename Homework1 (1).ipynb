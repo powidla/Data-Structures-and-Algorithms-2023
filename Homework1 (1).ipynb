{
  "cells": [
    {
      "cell_type": "markdown",
      "id": "dc5237db",
      "metadata": {
        "id": "dc5237db"
      },
      "source": [
        "## Deadline: 3 May 2023"
      ]
    },
    {
      "cell_type": "markdown",
      "id": "a81cbca4",
      "metadata": {
        "id": "a81cbca4"
      },
      "source": [
        "### 1. Estimate the worst case time complexity\n",
        "\n",
        "1 point"
      ]
    },
    {
      "cell_type": "code",
      "execution_count": 1,
      "id": "4ddef60e",
      "metadata": {
        "id": "4ddef60e"
      },
      "outputs": [],
      "source": [
        "def func0(n):\n",
        "    if n == 0: return 1\n",
        "    return func0(n-1) + 5\n",
        "\n",
        "def func1(n):\n",
        "    i = 1\n",
        "    while i < n:\n",
        "        i = i*2\n",
        "    \n",
        "def func2(n):\n",
        "    if n == 1:\n",
        "        return False\n",
        "    i = 2\n",
        "    while i*i <= n:\n",
        "        if n % i  == 0:\n",
        "            return False\n",
        "        i+=1\n",
        "    return True   \n"
      ]
    },
    {
      "cell_type": "markdown",
      "source": [
        "1) $T(n)=1$, if $n=0$ so $T(0)=1$ \\\\\n",
        "   $T(n)=T(n-1)+O(1)$ \\\\\n",
        "   Let's show that geometric progression takes place, use induction rule \\\\\n",
        "\n",
        "   $T(n)=T(n-1)+O(1)=T(n-2)+O(1)+O(1)=...\\\\\n",
        "   =T(1)+O(1)+...+O(1)$ \\\\\n",
        "   Since we looking for longest call - worst time complexity, each adding term is a power of 2\n",
        "\n",
        "   $T(n)=T(1)+O(1)+...+O(1)=O(2^0)+O(2^1)+O(2^2)+...+O(2^{n-1})= \\\\\n",
        "   =\\sum_{j=0}^{n-1}O(j)=O(2^n -1)=O(\\exp(n \\cdot \\ln2))$ \n",
        "\n",
        "   So the worst is like $T(n)=O(\\exp(n))$\n",
        "\n",
        "   \n",
        "\n",
        "   "
      ],
      "metadata": {
        "id": "vkCmmIjaqmWR"
      },
      "id": "vkCmmIjaqmWR"
    },
    {
      "cell_type": "markdown",
      "source": [
        "2) The loop works untill $T(2^k) < O(n) \\leq T(2^{k+1}) $ because at each step i is getting doubled, so $T(k) < O(\\ln n) \\leq T(k+1) $. So the worst is $O(\\ln n)$"
      ],
      "metadata": {
        "id": "IPsub4IJxFN7"
      },
      "id": "IPsub4IJxFN7"
    },
    {
      "cell_type": "markdown",
      "source": [
        "3) Since we have $i\\cdot i \\leq n$ true the loop works, so $T(k^2)\\leq O(n) < T((k+1)^2)$\n",
        "\n",
        "$T(k)\\leq O(n^{0.5}) < T(k+1)$\n",
        "So the worst case is $O(n^{\\frac{1}{2}})$\n",
        "\n"
      ],
      "metadata": {
        "id": "pnr6Vb5oz0ao"
      },
      "id": "pnr6Vb5oz0ao"
    },
    {
      "cell_type": "markdown",
      "id": "bdda7081",
      "metadata": {
        "id": "bdda7081"
      },
      "source": [
        "### 1. Hash table\n",
        "\n",
        "Implement k-mer index that stores positions of all k-mers of an input nucleotide sequence in a hash table. Write your own implementation of hash table with the interface: add(), delete(), get() using polynomial hash function. Provide some tests for your class.\n",
        "\n",
        "2 points"
      ]
    },
    {
      "cell_type": "code",
      "source": [
        "class HashTable:\n",
        "    '''\n",
        "    Class takes two arguments: size and p. size is the size of the hash table \n",
        "    and p is a prime number used for the polynomial hash function.\n",
        "    '''\n",
        "    def __init__(self, size=10000, p=1):\n",
        "        '''\n",
        "        Set p = 1 for instance, size = 1000s0\n",
        "        '''\n",
        "        self.size = size\n",
        "        self.p = p\n",
        "        self.table = [[] for _ in range(size)]\n",
        "\n",
        "    def add(self, key, value):\n",
        "        '''\n",
        "        The method first hashes the key and then adds the key-value pair to the appropriate bucket in the hash table. \n",
        "        If the key already exists in the bucket, appends the new value to the list of values associated with the key.\n",
        "        '''\n",
        "        index = self.hash(key)\n",
        "        for pair in self.table[index]:\n",
        "            if pair[0] == key:\n",
        "                pair[1].append(value)\n",
        "                return \n",
        "        self.table[index].append((key, [value]))\n",
        "\n",
        "    def delete(self, key):\n",
        "        '''\n",
        "        Method hashes the key and then searches for the key in the appropriate bucket. \n",
        "        If the key is found, the method removes the key-value pair from the bucket.\n",
        "        '''\n",
        "        index = self.hash(key)\n",
        "        for i, pair in enumerate(self.table[index]):\n",
        "            if pair[0] == key:\n",
        "                del self.table[index][i]\n",
        "                return self.table[index]\n",
        "\n",
        "    def get(self, key):\n",
        "        '''\n",
        "        The method hashes the key and then searches for the key in the appropriate bucket. \n",
        "        If the key is found,  returns the list of values associated with the key. \n",
        "        If the key is not found - returns None.\n",
        "        '''\n",
        "        index = self.hash(key)\n",
        "        for pair in self.table[index]:\n",
        "            if pair[0] == key:\n",
        "                return pair[1]\n",
        "        return None\n",
        "\n",
        "    def hash(self, key):\n",
        "        '''\n",
        "        The method applies polynomial hash function\n",
        "        '''\n",
        "        h = 0\n",
        "        for char in key:\n",
        "            h = (h * self.p + ord(char)) % self.size\n",
        "        return h"
      ],
      "metadata": {
        "id": "yc7NoTTBfaye"
      },
      "id": "yc7NoTTBfaye",
      "execution_count": 2,
      "outputs": []
    },
    {
      "cell_type": "code",
      "source": [
        "# class HashTable:\n",
        "#     def __init__(self, size):\n",
        "#         self.size = size\n",
        "#         self.table = [[] for _ in range(size)]\n",
        "    \n",
        "#     def _hash(self, key):\n",
        "#         # Polynomial hash function\n",
        "#         p = 31\n",
        "#         m = self.size\n",
        "#         hash_value = 0\n",
        "#         for i in range(len(key)):\n",
        "#             hash_value = (hash_value * p + ord(key[i])) % m\n",
        "#         return hash_value\n",
        "    \n",
        "#     def add(self, key, value):\n",
        "#         hash_value = self._hash(key)\n",
        "#         bucket = self.table[hash_value]\n",
        "#         for i in range(len(bucket)):\n",
        "#             if bucket[i][0] == key:\n",
        "#                 bucket[i][1].append(value)\n",
        "#                 return\n",
        "#         bucket.append([key, [value]])\n",
        "    \n",
        "#     def delete(self, key, value):\n",
        "#         hash_value = self._hash(key)\n",
        "#         bucket = self.table[hash_value]\n",
        "#         for i in range(len(bucket)):\n",
        "#             if bucket[i][0] == key:\n",
        "#                 if value in bucket[i][1]:\n",
        "#                     bucket[i][1].remove(value)\n",
        "#                     if len(bucket[i][1]) == 0:\n",
        "#                         bucket.pop(i)\n",
        "#                 return\n",
        "    \n",
        "#     def get(self, key):\n",
        "#         hash_value = self._hash(key)\n",
        "#         bucket = self.table[hash_value]\n",
        "#         for i in range(len(bucket)):\n",
        "#             if bucket[i][0] == key:\n",
        "#                 return bucket[i][1]\n",
        "#         return None"
      ],
      "metadata": {
        "id": "IpNyRiOiFYZh"
      },
      "id": "IpNyRiOiFYZh",
      "execution_count": 24,
      "outputs": []
    },
    {
      "cell_type": "code",
      "source": [
        "# def build_kmer_index(sequence, k):\n",
        "#     index = HashTable(len(sequence) - k + 1)\n",
        "#     for i in range(len(sequence) - k + 1):\n",
        "#         kmer = sequence[i:i+k]\n",
        "#         index.add(kmer, i)\n",
        "#     return index"
      ],
      "metadata": {
        "id": "mvnWZAEEFbYR"
      },
      "id": "mvnWZAEEFbYR",
      "execution_count": 25,
      "outputs": []
    },
    {
      "cell_type": "code",
      "source": [
        "# # Create a sequence\n",
        "# sequence = \"ATGACATGATGACGTAC\"\n",
        "\n",
        "# # Build k-mer index\n",
        "# k = 3\n",
        "# index = build_kmer_index(sequence, k)\n",
        "\n",
        "# # Test get() function\n",
        "# assert index.get(\"ATG\") == [0, 6, 9]\n",
        "# assert index.get(\"GAC\") == [3, 12]\n",
        "# assert index.get(\"TAC\") == [7, 15]\n",
        "# assert index.get(\"CCC\") == None\n",
        "\n",
        "# # Test add() and delete() functions\n",
        "# index.add(\"ATG\", 13)\n",
        "# assert index.get(\"ATG\") == [0, 6, 9, 13]\n",
        "# index.delete(\"ATG\", 9)\n",
        "# assert index.get(\"ATG\") == [0, 6, 13]"
      ],
      "metadata": {
        "id": "GOpU_1gAFdcE"
      },
      "id": "GOpU_1gAFdcE",
      "execution_count": 27,
      "outputs": []
    },
    {
      "cell_type": "code",
      "execution_count": 3,
      "id": "92b030b2",
      "metadata": {
        "id": "92b030b2"
      },
      "outputs": [],
      "source": [
        "class KmerIndex:\n",
        "    '''\n",
        "    The KmerIndex class is a class that implements a k-mer index for a given nucleotide sequence.\n",
        "    A k-mer index is a data structure that stores the positions of all k-mers of length k in a sequence.\n",
        "    '''\n",
        "    def __init__(self, sequence, k):\n",
        "        '''\n",
        "        Define sequence itself, k - length of kmer, index via HashTable class\n",
        "        '''\n",
        "        self.sequence = sequence\n",
        "        self.k = k\n",
        "        self.index = HashTable()\n",
        "        self.build_index()\n",
        "\n",
        "    def build_index(self):\n",
        "        '''\n",
        "        The kmer index by iterating over the input sequence and storing the positions of each k-mer in a hash table. \n",
        "        The hash table stores key-value pairs and allows for constant time access to values by key.\n",
        "        '''\n",
        "        for i in range(len(self.sequence) - self.k + 1):\n",
        "            kmer = self.sequence[i:i+self.k]\n",
        "            self.index.add(kmer, i)\n",
        "\n",
        "    def get_kmer_positions(self, kmer):\n",
        "        '''\n",
        "        Method takes a k-mer as input and returns a list of positions where the k-mer occurs in the input sequence. \n",
        "        If the k-mer is not in the hash table, the method returns None.\n",
        "        '''\n",
        "        return self.index.get(kmer)"
      ]
    },
    {
      "cell_type": "markdown",
      "source": [
        "Applying tests"
      ],
      "metadata": {
        "id": "GCSFx6Sg1Km7"
      },
      "id": "GCSFx6Sg1Km7"
    },
    {
      "cell_type": "code",
      "source": [
        "# kmer of length 2\n",
        "seq = \"AAACCCGGGTTT\"\n",
        "k = 2\n",
        "ki = KmerIndex(seq, k)\n",
        "assert ki.get_kmer_positions(\"AA\") == [0, 1]\n",
        "assert ki.get_kmer_positions(\"CC\") == [3, 4]\n",
        "\n",
        "# kmer of length 3\n",
        "seq = \"ATCGATCGATCG\"\n",
        "k = 3\n",
        "ki = KmerIndex(seq, k)\n",
        "assert ki.get_kmer_positions(\"ATC\") == [0, 4, 8]\n",
        "assert ki.get_kmer_positions(\"TTT\") == None"
      ],
      "metadata": {
        "id": "KWiT0keu2tGR"
      },
      "id": "KWiT0keu2tGR",
      "execution_count": 4,
      "outputs": []
    },
    {
      "cell_type": "markdown",
      "id": "2ceb0237",
      "metadata": {
        "id": "2ceb0237"
      },
      "source": [
        "### 2. Bloom filter\n",
        "\n",
        "Implement a Bloom filter class using the input sequence from the previous task. Implement build() and query() interface. Provide some tests for your class.\n",
        "\n",
        "2 points"
      ]
    },
    {
      "cell_type": "code",
      "source": [
        "!pip install mmh3\n",
        "!pip install bitarray"
      ],
      "metadata": {
        "colab": {
          "base_uri": "https://localhost:8080/"
        },
        "id": "7RiKbW0DHAoF",
        "outputId": "147d6fc8-ed4d-4931-99b3-3931580cc9fd"
      },
      "id": "7RiKbW0DHAoF",
      "execution_count": 31,
      "outputs": [
        {
          "output_type": "stream",
          "name": "stdout",
          "text": [
            "Looking in indexes: https://pypi.org/simple, https://us-python.pkg.dev/colab-wheels/public/simple/\n",
            "Collecting mmh3\n",
            "  Downloading mmh3-3.1.0-cp39-cp39-manylinux_2_5_x86_64.manylinux1_x86_64.manylinux_2_17_x86_64.manylinux2014_x86_64.whl (37 kB)\n",
            "Installing collected packages: mmh3\n",
            "Successfully installed mmh3-3.1.0\n"
          ]
        }
      ]
    },
    {
      "cell_type": "code",
      "source": [
        "import mmh3\n",
        "from bitarray import bitarray"
      ],
      "metadata": {
        "id": "5fEN5fUAITTG"
      },
      "id": "5fEN5fUAITTG",
      "execution_count": null,
      "outputs": []
    },
    {
      "cell_type": "code",
      "execution_count": 33,
      "id": "ed9ef36e",
      "metadata": {
        "id": "ed9ef36e"
      },
      "outputs": [],
      "source": [
        "class BloomFilter:\n",
        "    def __init__(self, size, num_hashes):\n",
        "        self.size = size\n",
        "        self.num_hashes = num_hashes\n",
        "        self.bit_array = bitarray(size)\n",
        "        self.bit_array.setall(0)\n",
        "    \n",
        "    def _hash(self, key):\n",
        "        hash_values = []\n",
        "        for seed in range(self.num_hashes):\n",
        "            hash_value = mmh3.hash(key, seed) % self.size\n",
        "            hash_values.append(hash_value)\n",
        "        return hash_values\n",
        "    \n",
        "    def add(self, key):\n",
        "        hash_values = self._hash(key)\n",
        "        for hash_value in hash_values:\n",
        "            self.bit_array[hash_value] = 1\n",
        "    \n",
        "    def query(self, key):\n",
        "        hash_values = self._hash(key)\n",
        "        for hash_value in hash_values:\n",
        "            if self.bit_array[hash_value] == 0:\n",
        "                return False\n",
        "        return True\n",
        "    \n",
        "    def build(self, sequence, k):\n",
        "        for i in range(len(sequence) - k + 1):\n",
        "            kmer = sequence[i:i+k]\n",
        "            self.add(kmer)"
      ]
    },
    {
      "cell_type": "code",
      "source": [
        "# Create a sequence\n",
        "sequence = \"ATCGATCGATCG\"\n",
        "\n",
        "# Build Bloom filter\n",
        "size = 1000\n",
        "num_hashes = 5\n",
        "bloom_filter = BloomFilter(size, num_hashes)\n",
        "bloom_filter.build(sequence, k=3)\n",
        "\n",
        "# Test query() function\n",
        "assert bloom_filter.query(\"ATC\") == True\n",
        "assert bloom_filter.query(\"TCG\") == True\n",
        "assert bloom_filter.query(\"GAT\") == True\n",
        "assert bloom_filter.query(\"CCC\") == False\n",
        "\n",
        "# Test add() and query() functions\n",
        "bloom_filter.add(\"CCC\")\n",
        "assert bloom_filter.query(\"CCC\") == True"
      ],
      "metadata": {
        "id": "8Qk-nneJGuq5"
      },
      "id": "8Qk-nneJGuq5",
      "execution_count": 38,
      "outputs": []
    },
    {
      "cell_type": "markdown",
      "id": "65b89cab",
      "metadata": {
        "id": "65b89cab"
      },
      "source": [
        "### 3*. (Optional) SBT\n",
        "\n",
        "Implement Sequence Bloom Trees algorithm from https://www.ncbi.nlm.nih.gov/pmc/articles/PMC4804353/\n",
        "\n",
        "4 points\n"
      ]
    },
    {
      "cell_type": "code",
      "source": [
        "class SBTNode:\n",
        "    \"\"\"\n",
        "    A class representing a node in the Sequence Bloom Tree (SBT).\n",
        "\n",
        "    Attributes:\n",
        "        bloom_filter (bitarray): A bit array used to store k-mers.\n",
        "        children (list): A list of child nodes.\n",
        "    \"\"\"\n",
        "    def __init__(self, bloom_filter=None, children=None):\n",
        "        \"\"\"\n",
        "        Initializes a new instance of the SBTNode class.\n",
        "\n",
        "        \"\"\"\n",
        "        self.bloom_filter = bloom_filter\n",
        "        self.children = children or []\n",
        "\n",
        "    def add_child(self, node):\n",
        "        \"\"\"\n",
        "        Adds a child node to the current node.\n",
        "        \"\"\"\n",
        "        self.children.append(node)\n",
        "\n",
        "    def count_kmers(self, k, sequence):\n",
        "        \"\"\"\n",
        "        Counts the k-mers in the specified sequence and adds them to the node's bloom filter.\n",
        "        \"\"\"\n",
        "        kmers = [sequence[i:i+k] for i in range(len(sequence)-k+1)]\n",
        "        for kmer in kmers:\n",
        "            self.bloom_filter.add(hash(kmer))\n",
        "\n",
        "    def contains_kmer(self, kmer):\n",
        "        \"\"\"\n",
        "        Determines if the node's bloom filter contains the specified k-mer.\n",
        "        \"\"\"\n",
        "        return kmer in self.bloom_filter"
      ],
      "metadata": {
        "id": "cpYAigqQ5mZ4"
      },
      "id": "cpYAigqQ5mZ4",
      "execution_count": 12,
      "outputs": []
    },
    {
      "cell_type": "code",
      "execution_count": 13,
      "id": "ae47c337",
      "metadata": {
        "id": "ae47c337"
      },
      "outputs": [],
      "source": [
        "class SBT:\n",
        "    \"\"\"\n",
        "    A class representing a Sequence Bloom Tree (SBT).\n",
        "\n",
        "    Attributes:\n",
        "        k (int): The length of the k-mer.\n",
        "        max_children (int): The maximum number of children per node.\n",
        "        capacity (int): The capacity of the bloom filter.\n",
        "        error_rate (float): The false positive rate of the bloom filter.\n",
        "        root (SBTNode): The root node of the tree.\n",
        "        num_nodes (int): The number of nodes in the tree.\n",
        "    \"\"\"\n",
        "\n",
        "    def __init__(self, k, max_children=2, capacity=1000, error_rate=0.05):\n",
        "        \"\"\"\n",
        "        Initializes a new instance of the SBT class.\n",
        "        \"\"\"\n",
        "        self.k = k\n",
        "        self.max_children = max_children\n",
        "        self.capacity = capacity\n",
        "        self.error_rate = error_rate\n",
        "        self.root = SBTNode(bloom_filter=bitarray(capacity))\n",
        "        self.num_nodes = 1\n",
        "\n",
        "    def insert(self, sequence):\n",
        "        \"\"\"\n",
        "        Inserts a sequence into the SBT.\n",
        "        \"\"\"\n",
        "        node = self.root\n",
        "        path = deque()\n",
        "        while True:\n",
        "            path.append(node)\n",
        "            if len(node.children) == 0:\n",
        "                break\n",
        "            elif len(node.children) == self.max_children:\n",
        "                node = self._split(node)\n",
        "            else:\n",
        "                node = node.children[0]\n",
        "\n",
        "        for n in reversed(path):\n",
        "            if n.bloom_filter.count() < self.capacity:\n",
        "                n.count_kmers(self.k, sequence)\n",
        "                return\n",
        "\n",
        "            if len(n.children) < self.max_children:\n",
        "                child_node = SBTNode(bloom_filter=bitarray(self.capacity))\n",
        "                child_node.count_kmers(self.k, sequence)\n",
        "                n.add_child(child_node)\n",
        "                self.num_nodes += 1\n",
        "                return\n",
        "\n",
        "            node = self._split(n)\n",
        "            if len(path) > 0:\n",
        "                parent = path.pop()\n",
        "                parent.children[parent.children.index(n)] = node\n",
        "                node.add_child(n)\n",
        "            else:\n",
        "                new_root = SBTNode(bloom_filter=bitarray(self.capacity))\n",
        "                new_root.add_child(node)\n",
        "                new_root.add_child(n)\n",
        "                self.root = new_root\n",
        "                return\n",
        "\n",
        "    def query(self, sequence):\n",
        "        \"\"\"\n",
        "        Inserts a sequence into the SBT.\n",
        "        \"\"\"\n",
        "        node = self.root\n",
        "        for i in range(len(sequence) - self.k + 1):\n",
        "            kmer = sequence[i:i+self.k]\n",
        "            if not node.contains_kmer(kmer):\n",
        "                return False\n",
        "            node = node.children[0]\n",
        "        return True\n",
        "\n",
        "    def _split(self, node):\n",
        "        \"\"\"\n",
        "        Inserts a sequence into the SBT.\n",
        "        \"\"\"\n",
        "        left = SBTNode(bloom_filter=bitarray(self.capacity))\n",
        "        right = SBTNode(bloom_filter=bitarray(self.capacity))\n",
        "        for child in node.children:\n",
        "            if hash(child.bloom_filter.to01()) % 2 == 0:\n",
        "                left.add_child(child)\n",
        "            else:\n",
        "                right.add_child(child)\n",
        "        node.children = [left, right]\n",
        "        return node"
      ]
    },
    {
      "cell_type": "code",
      "source": [
        "sbt = SBT(k=31)\n",
        "sequence = \"ATCGATCGATCGATCG\"\n",
        "sbt.insert(sequence)"
      ],
      "metadata": {
        "id": "JVNoAqzp5rQX"
      },
      "id": "JVNoAqzp5rQX",
      "execution_count": 14,
      "outputs": []
    },
    {
      "cell_type": "code",
      "source": [
        "query_sequence = \"ATCG\"\n",
        "if sbt.query(query_sequence):\n",
        "    print(\"Sequence found in SBT\")\n",
        "else:\n",
        "    print(\"Sequence not\")"
      ],
      "metadata": {
        "colab": {
          "base_uri": "https://localhost:8080/"
        },
        "id": "yxNwWw6g5s7Y",
        "outputId": "a38dc3e2-01e3-45ee-cc2a-1e3a2c38585e"
      },
      "id": "yxNwWw6g5s7Y",
      "execution_count": 15,
      "outputs": [
        {
          "output_type": "stream",
          "name": "stdout",
          "text": [
            "Sequence found in SBT\n"
          ]
        }
      ]
    }
  ],
  "metadata": {
    "kernelspec": {
      "display_name": "Python 3 (ipykernel)",
      "language": "python",
      "name": "python3"
    },
    "language_info": {
      "codemirror_mode": {
        "name": "ipython",
        "version": 3
      },
      "file_extension": ".py",
      "mimetype": "text/x-python",
      "name": "python",
      "nbconvert_exporter": "python",
      "pygments_lexer": "ipython3",
      "version": "3.9.13"
    },
    "colab": {
      "provenance": []
    }
  },
  "nbformat": 4,
  "nbformat_minor": 5
}